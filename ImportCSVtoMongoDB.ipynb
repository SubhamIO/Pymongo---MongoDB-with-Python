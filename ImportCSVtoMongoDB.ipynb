{
 "cells": [
  {
   "cell_type": "code",
   "execution_count": 1,
   "metadata": {},
   "outputs": [],
   "source": [
    "try:\n",
    "    import pymongo\n",
    "    from pymongo import MongoClient\n",
    "    import pandas as pd\n",
    "    import json\n",
    "except Exception as e:\n",
    "    print(\"Some Modules are Missing \")\n"
   ]
  },
  {
   "cell_type": "code",
   "execution_count": 2,
   "metadata": {},
   "outputs": [
    {
     "name": "stdout",
     "output_type": "stream",
     "text": [
      "All the Data has been Exported to Mongo DB Server .... \n"
     ]
    }
   ],
   "source": [
    "class MongoDB(object):\n",
    "\n",
    "    def __init__(self, dBName=None, collectionName=None):\n",
    "\n",
    "        self.dBName = dBName\n",
    "        self.collectionName = collectionName\n",
    "\n",
    "        self.client = MongoClient(\"localhost\", 27017, maxPoolSize=50)\n",
    "\n",
    "        self.DB = self.client[self.dBName]\n",
    "        self.collection = self.DB[self.collectionName]\n",
    "\n",
    "\n",
    "\n",
    "    def InsertData(self, path=None):\n",
    "        \"\"\"\n",
    "        :param path: Path os csv File\n",
    "        :return: None\n",
    "        \"\"\"\n",
    "\n",
    "        df = pd.read_csv(path)\n",
    "        data = df.to_dict('records')\n",
    "\n",
    "        self.collection.insert_many(data, ordered=False)\n",
    "        print(\"All the Data has been Exported to Mongo DB Server .... \")\n",
    "\n",
    "if __name__ == \"__main__\":\n",
    "    mongodb = MongoDB(dBName = 'Dataset', collectionName='EnergyConsumption')\n",
    "    mongodb.InsertData(path=\"AEP_hourly.csv\")"
   ]
  },
  {
   "cell_type": "markdown",
   "metadata": {},
   "source": [
    "### List all databases"
   ]
  },
  {
   "cell_type": "code",
   "execution_count": 3,
   "metadata": {},
   "outputs": [],
   "source": [
    "mongodb = MongoDB(dBName = 'Dataset', collectionName='EnergyConsumption')"
   ]
  },
  {
   "cell_type": "code",
   "execution_count": 5,
   "metadata": {},
   "outputs": [
    {
     "name": "stdout",
     "output_type": "stream",
     "text": [
      "{'name': 'Dataset', 'sizeOnDisk': 3420160.0, 'empty': False}\n",
      "{'name': 'Employee', 'sizeOnDisk': 73728.0, 'empty': False}\n",
      "{'name': 'Movie', 'sizeOnDisk': 40960.0, 'empty': False}\n",
      "{'name': 'Stationery', 'sizeOnDisk': 57344.0, 'empty': False}\n",
      "{'name': 'Students', 'sizeOnDisk': 122880.0, 'empty': False}\n",
      "{'name': 'admin', 'sizeOnDisk': 40960.0, 'empty': False}\n",
      "{'name': 'config', 'sizeOnDisk': 49152.0, 'empty': False}\n",
      "{'name': 'local', 'sizeOnDisk': 73728.0, 'empty': False}\n",
      "{'name': 'sharddemo', 'sizeOnDisk': 16384.0, 'empty': False}\n"
     ]
    }
   ],
   "source": [
    "for db in mongodb.client.list_databases():\n",
    "    print(db)"
   ]
  },
  {
   "cell_type": "markdown",
   "metadata": {},
   "source": [
    "## View collection in a DB"
   ]
  },
  {
   "cell_type": "code",
   "execution_count": 6,
   "metadata": {},
   "outputs": [
    {
     "name": "stdout",
     "output_type": "stream",
     "text": [
      "Enter database name: Dataset\n",
      "EnergyConsumption\n"
     ]
    }
   ],
   "source": [
    "dbname = input(\"Enter database name: \")\n",
    "mydb = mongodb.client[dbname]\n",
    "\n",
    "#list the collections\n",
    "for coll in mydb.list_collection_names():\n",
    "    print(coll)"
   ]
  },
  {
   "cell_type": "code",
   "execution_count": null,
   "metadata": {},
   "outputs": [],
   "source": []
  }
 ],
 "metadata": {
  "kernelspec": {
   "display_name": "Python 3",
   "language": "python",
   "name": "python3"
  },
  "language_info": {
   "codemirror_mode": {
    "name": "ipython",
    "version": 3
   },
   "file_extension": ".py",
   "mimetype": "text/x-python",
   "name": "python",
   "nbconvert_exporter": "python",
   "pygments_lexer": "ipython3",
   "version": "3.7.4"
  }
 },
 "nbformat": 4,
 "nbformat_minor": 2
}
