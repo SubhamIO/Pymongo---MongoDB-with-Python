{
 "cells": [
  {
   "cell_type": "markdown",
   "metadata": {},
   "source": [
    "# MONGODB"
   ]
  },
  {
   "cell_type": "markdown",
   "metadata": {},
   "source": [
    "## Creating collection and inserting data"
   ]
  },
  {
   "cell_type": "code",
   "execution_count": 24,
   "metadata": {},
   "outputs": [
    {
     "data": {
      "text/plain": [
       "<pymongo.results.InsertManyResult at 0x7fa3263f46e0>"
      ]
     },
     "execution_count": 24,
     "metadata": {},
     "output_type": "execute_result"
    }
   ],
   "source": [
    "import pymongo\n",
    "client = pymongo.MongoClient(\"mongodb://127.0.0.1:27017/\")\n",
    "\n",
    "'''create DB '''\n",
    "mydb = client['Movie']\n",
    "\n",
    "'''create a collection'''\n",
    "info = mydb.moviedetails\n",
    "\n",
    "'''Inserting 1 record'''\n",
    "record = {\n",
    "        \"moviename\":\"Avengers\",\n",
    "        \"year\":2012,\n",
    "        \"genre\":\"Superhero fiction\"\n",
    "        }\n",
    "\n",
    "info.insert_one(record)\n",
    "\n",
    "'''Inserting multiple record'''\n",
    "record = [\n",
    "        {\n",
    "        \"moviename\":\"Andhadhun\",\n",
    "        \"year\":2018,\n",
    "        \"genre\":\"Thriller Comedy\"\n",
    "        },\n",
    "                {\n",
    "        \"moviename\":\"Bloodshot\",\n",
    "        \"year\":2020,\n",
    "        \"genre\":\"Action\"\n",
    "        },\n",
    "                        {\n",
    "        \"moviename\":\"The Shawshank Redemption\",\n",
    "        \"year\":1994,\n",
    "        \"genre\":\"Drama\"\n",
    "        }\n",
    "        ]\n",
    "\n",
    "info.insert_many(record)\n"
   ]
  },
  {
   "cell_type": "code",
   "execution_count": 4,
   "metadata": {},
   "outputs": [
    {
     "data": {
      "text/plain": [
       "MongoClient(host=['127.0.0.1:27017'], document_class=dict, tz_aware=False, connect=True)"
      ]
     },
     "execution_count": 4,
     "metadata": {},
     "output_type": "execute_result"
    }
   ],
   "source": [
    "client"
   ]
  },
  {
   "cell_type": "markdown",
   "metadata": {},
   "source": [
    "## Deleting a collection(Execute if you need !)"
   ]
  },
  {
   "cell_type": "code",
   "execution_count": 22,
   "metadata": {},
   "outputs": [],
   "source": [
    "#get collection named \"moviedetails\"\n",
    "mycol = mydb[\"moviedetails\"]\n",
    "  \n",
    "#delete or drop collection\n",
    "mycol.drop()"
   ]
  },
  {
   "cell_type": "code",
   "execution_count": 25,
   "metadata": {},
   "outputs": [
    {
     "name": "stdout",
     "output_type": "stream",
     "text": [
      "{'name': 'Employee', 'sizeOnDisk': 73728.0, 'empty': False}\n",
      "{'name': 'Movie', 'sizeOnDisk': 8192.0, 'empty': False}\n",
      "{'name': 'admin', 'sizeOnDisk': 40960.0, 'empty': False}\n",
      "{'name': 'config', 'sizeOnDisk': 110592.0, 'empty': False}\n",
      "{'name': 'local', 'sizeOnDisk': 40960.0, 'empty': False}\n"
     ]
    }
   ],
   "source": [
    "#  List all databases\n",
    "for db in client.list_databases():\n",
    "    print(db)"
   ]
  },
  {
   "cell_type": "markdown",
   "metadata": {},
   "source": [
    "# Querying Json Docs"
   ]
  },
  {
   "cell_type": "code",
   "execution_count": 26,
   "metadata": {},
   "outputs": [
    {
     "data": {
      "text/plain": [
       "{'_id': ObjectId('5f630eff7327ebd72651c5cb'),\n",
       " 'moviename': 'Avengers',\n",
       " 'year': 2012,\n",
       " 'genre': 'Superhero fiction'}"
      ]
     },
     "execution_count": 26,
     "metadata": {},
     "output_type": "execute_result"
    }
   ],
   "source": [
    "## Simple way of querying\n",
    "info.find_one()"
   ]
  },
  {
   "cell_type": "code",
   "execution_count": 27,
   "metadata": {},
   "outputs": [
    {
     "name": "stdout",
     "output_type": "stream",
     "text": [
      "{'_id': ObjectId('5f630eff7327ebd72651c5cb'), 'moviename': 'Avengers', 'year': 2012, 'genre': 'Superhero fiction'}\n",
      "{'_id': ObjectId('5f630eff7327ebd72651c5cc'), 'moviename': 'Andhadhun', 'year': 2018, 'genre': 'Thriller Comedy'}\n",
      "{'_id': ObjectId('5f630eff7327ebd72651c5cd'), 'moviename': 'Bloodshot', 'year': 2020, 'genre': 'Action'}\n",
      "{'_id': ObjectId('5f630eff7327ebd72651c5ce'), 'moviename': 'The Shawshank Redemption', 'year': 1994, 'genre': 'Drama'}\n"
     ]
    }
   ],
   "source": [
    "## Select * from moviedetails\n",
    "for record in info.find({}):\n",
    "    print(record)"
   ]
  },
  {
   "cell_type": "markdown",
   "metadata": {},
   "source": [
    "## Query the json documents based on equality conditions"
   ]
  },
  {
   "cell_type": "code",
   "execution_count": 28,
   "metadata": {},
   "outputs": [
    {
     "name": "stdout",
     "output_type": "stream",
     "text": [
      "{'_id': ObjectId('5f630eff7327ebd72651c5cd'), 'moviename': 'Bloodshot', 'year': 2020, 'genre': 'Action'}\n"
     ]
    }
   ],
   "source": [
    "# Select * from moviedetails where genre=Action\n",
    "\n",
    "for record in info.find({'genre':'Action'}):\n",
    "    print(record)"
   ]
  },
  {
   "cell_type": "markdown",
   "metadata": {},
   "source": [
    "## Query documents using query operators( in,lt,gt)"
   ]
  },
  {
   "cell_type": "code",
   "execution_count": 29,
   "metadata": {},
   "outputs": [
    {
     "name": "stdout",
     "output_type": "stream",
     "text": [
      "{'_id': ObjectId('5f630eff7327ebd72651c5cd'), 'moviename': 'Bloodshot', 'year': 2020, 'genre': 'Action'}\n",
      "{'_id': ObjectId('5f630eff7327ebd72651c5ce'), 'moviename': 'The Shawshank Redemption', 'year': 1994, 'genre': 'Drama'}\n"
     ]
    }
   ],
   "source": [
    "for record in info.find({'genre':{'$in':['Action','Drama']}}):\n",
    "    print(record)"
   ]
  },
  {
   "cell_type": "code",
   "execution_count": 30,
   "metadata": {},
   "outputs": [
    {
     "name": "stdout",
     "output_type": "stream",
     "text": [
      "{'_id': ObjectId('5f630eff7327ebd72651c5cd'), 'moviename': 'Bloodshot', 'year': 2020, 'genre': 'Action'}\n"
     ]
    }
   ],
   "source": [
    "# And operation\n",
    "for record in info.find({'genre':{'$in':['Action','Drama']},'year':{'$gt':2018}}):\n",
    "    print(record)"
   ]
  },
  {
   "cell_type": "code",
   "execution_count": 32,
   "metadata": {},
   "outputs": [
    {
     "name": "stdout",
     "output_type": "stream",
     "text": [
      "{'_id': ObjectId('5f630eff7327ebd72651c5cb'), 'moviename': 'Avengers', 'year': 2012, 'genre': 'Superhero fiction'}\n",
      "{'_id': ObjectId('5f630eff7327ebd72651c5ce'), 'moviename': 'The Shawshank Redemption', 'year': 1994, 'genre': 'Drama'}\n"
     ]
    }
   ],
   "source": [
    "## OR operation\n",
    "for record in info.find({'$or':[{'moviename':'Avengers'},{'genre':'Drama'}]}):\n",
    "    print(record)"
   ]
  },
  {
   "cell_type": "markdown",
   "metadata": {},
   "source": [
    "## Updating Json Docs\n",
    "- pymongo.collection.Collection.update_one()\n",
    "- pymongo.collection.Collection.update_many()\n",
    "- pymongo.collection.Collection.replace_one()"
   ]
  },
  {
   "cell_type": "code",
   "execution_count": 33,
   "metadata": {},
   "outputs": [],
   "source": [
    "# Create a new DB\n",
    "mydb=client['Stationery']\n",
    "# Define a new collection\n",
    "inventory=mydb.shop"
   ]
  },
  {
   "cell_type": "code",
   "execution_count": 35,
   "metadata": {},
   "outputs": [
    {
     "data": {
      "text/plain": [
       "<pymongo.results.InsertManyResult at 0x7fa3264c5c80>"
      ]
     },
     "execution_count": 35,
     "metadata": {},
     "output_type": "execute_result"
    }
   ],
   "source": [
    "inventory.insert_many([\n",
    "    {\"item\": \"canvas\",\n",
    "     \"qty\": 100,\n",
    "     \"size\": {\"h\": 28, \"w\": 35.5, \"uom\": \"cm\"},\n",
    "     \"status\": \"A\"},\n",
    "    {\"item\": \"journal\",\n",
    "     \"qty\": 25,\n",
    "     \"size\": {\"h\": 14, \"w\": 21, \"uom\": \"cm\"},\n",
    "     \"status\": \"A\"},\n",
    "    {\"item\": \"mat\",\n",
    "     \"qty\": 85,\n",
    "     \"size\": {\"h\": 27.9, \"w\": 35.5, \"uom\": \"cm\"},\n",
    "     \"status\": \"A\"},\n",
    "    {\"item\": \"mousepad\",\n",
    "     \"qty\": 25,\n",
    "     \"size\": {\"h\": 19, \"w\": 22.85, \"uom\": \"cm\"},\n",
    "     \"status\": \"P\"},\n",
    "    {\"item\": \"notebook\",\n",
    "     \"qty\": 50,\n",
    "     \"size\": {\"h\": 8.5, \"w\": 11, \"uom\": \"in\"},\n",
    "     \"status\": \"P\"},\n",
    "    {\"item\": \"paper\",\n",
    "     \"qty\": 100,\n",
    "     \"size\": {\"h\": 8.5, \"w\": 11, \"uom\": \"in\"},\n",
    "     \"status\": \"D\"},\n",
    "    {\"item\": \"planner\",\n",
    "     \"qty\": 75,\n",
    "     \"size\": {\"h\": 22.85, \"w\": 30, \"uom\": \"cm\"},\n",
    "     \"status\": \"D\"},\n",
    "    {\"item\": \"postcard\",\n",
    "     \"qty\": 45,\n",
    "     \"size\": {\"h\": 10, \"w\": 15.25, \"uom\": \"cm\"},\n",
    "     \"status\": \"A\"},\n",
    "    {\"item\": \"sketchbook\",\n",
    "     \"qty\": 80,\n",
    "     \"size\": {\"h\": 14, \"w\": 21, \"uom\": \"cm\"},\n",
    "     \"status\": \"A\"},\n",
    "    {\"item\": \"sketch pad\",\n",
    "     \"qty\": 95,\n",
    "     \"size\": {\"h\": 22.85, \"w\": 30.5, \"uom\": \"cm\"},\n",
    "     \"status\": \"A\"}])"
   ]
  },
  {
   "cell_type": "code",
   "execution_count": 36,
   "metadata": {},
   "outputs": [
    {
     "name": "stdout",
     "output_type": "stream",
     "text": [
      "{'name': 'Employee', 'sizeOnDisk': 73728.0, 'empty': False}\n",
      "{'name': 'Movie', 'sizeOnDisk': 40960.0, 'empty': False}\n",
      "{'name': 'Stationery', 'sizeOnDisk': 40960.0, 'empty': False}\n",
      "{'name': 'admin', 'sizeOnDisk': 40960.0, 'empty': False}\n",
      "{'name': 'config', 'sizeOnDisk': 110592.0, 'empty': False}\n",
      "{'name': 'local', 'sizeOnDisk': 40960.0, 'empty': False}\n"
     ]
    }
   ],
   "source": [
    "#  List all databases\n",
    "for db in client.list_databases():\n",
    "    print(db)"
   ]
  },
  {
   "cell_type": "code",
   "execution_count": 38,
   "metadata": {},
   "outputs": [
    {
     "name": "stdout",
     "output_type": "stream",
     "text": [
      "{'_id': ObjectId('5f6312b57327ebd72651c5cf'), 'item': 'canvas', 'qty': 100, 'size': {'h': 28, 'w': 35.5, 'uom': 'cm'}, 'status': 'A'}\n",
      "{'_id': ObjectId('5f6312b57327ebd72651c5d0'), 'item': 'journal', 'qty': 25, 'size': {'h': 14, 'w': 21, 'uom': 'cm'}, 'status': 'A'}\n",
      "{'_id': ObjectId('5f6312b57327ebd72651c5d1'), 'item': 'mat', 'qty': 85, 'size': {'h': 27.9, 'w': 35.5, 'uom': 'cm'}, 'status': 'A'}\n",
      "{'_id': ObjectId('5f6312b57327ebd72651c5d2'), 'item': 'mousepad', 'qty': 25, 'size': {'h': 19, 'w': 22.85, 'uom': 'cm'}, 'status': 'P'}\n",
      "{'_id': ObjectId('5f6312b57327ebd72651c5d3'), 'item': 'notebook', 'qty': 50, 'size': {'h': 8.5, 'w': 11, 'uom': 'in'}, 'status': 'P'}\n",
      "{'_id': ObjectId('5f6312b57327ebd72651c5d4'), 'item': 'paper', 'qty': 100, 'size': {'h': 8.5, 'w': 11, 'uom': 'in'}, 'status': 'D'}\n",
      "{'_id': ObjectId('5f6312b57327ebd72651c5d5'), 'item': 'planner', 'qty': 75, 'size': {'h': 22.85, 'w': 30, 'uom': 'cm'}, 'status': 'D'}\n",
      "{'_id': ObjectId('5f6312b57327ebd72651c5d6'), 'item': 'postcard', 'qty': 45, 'size': {'h': 10, 'w': 15.25, 'uom': 'cm'}, 'status': 'A'}\n",
      "{'_id': ObjectId('5f6312b57327ebd72651c5d7'), 'item': 'sketchbook', 'qty': 80, 'size': {'h': 14, 'w': 21, 'uom': 'cm'}, 'status': 'A'}\n",
      "{'_id': ObjectId('5f6312b57327ebd72651c5d8'), 'item': 'sketch pad', 'qty': 95, 'size': {'h': 22.85, 'w': 30.5, 'uom': 'cm'}, 'status': 'A'}\n"
     ]
    }
   ],
   "source": [
    "## Select * from moviedetails\n",
    "for record in inventory.find({}):\n",
    "    print(record)"
   ]
  },
  {
   "cell_type": "markdown",
   "metadata": {},
   "source": [
    "### pymongo.collection.Collection.update_one()"
   ]
  },
  {
   "cell_type": "code",
   "execution_count": 39,
   "metadata": {},
   "outputs": [
    {
     "data": {
      "text/plain": [
       "<pymongo.results.UpdateResult at 0x7fa325bdff50>"
      ]
     },
     "execution_count": 39,
     "metadata": {},
     "output_type": "execute_result"
    }
   ],
   "source": [
    "# Updating and also adding a new variable lastModifiedDate\n",
    "inventory.update_one(\n",
    "{\"item\":\"sketch pad\"},#where\n",
    "{\"$set\":{\"size.uom\":\"m\",\"status\":\"P\"}, #set\n",
    "\"$currentDate\":{\"lastModified\":True}}\n",
    ")"
   ]
  },
  {
   "cell_type": "code",
   "execution_count": 42,
   "metadata": {},
   "outputs": [
    {
     "name": "stdout",
     "output_type": "stream",
     "text": [
      "{'_id': ObjectId('5f6312b57327ebd72651c5d8'), 'item': 'sketch pad', 'qty': 95, 'size': {'h': 22.85, 'w': 30.5, 'uom': 'm'}, 'status': 'P', 'lastModified': datetime.datetime(2020, 9, 17, 7, 44, 36, 282000)}\n"
     ]
    }
   ],
   "source": [
    "# Select * from inventory where item=sketch pad\n",
    "\n",
    "for record in inventory.find({'item':'sketch pad'}):\n",
    "    print(record)"
   ]
  },
  {
   "cell_type": "markdown",
   "metadata": {},
   "source": [
    "### pymongo.collection.Collection.update_many()"
   ]
  },
  {
   "cell_type": "code",
   "execution_count": 43,
   "metadata": {},
   "outputs": [
    {
     "data": {
      "text/plain": [
       "<pymongo.results.UpdateResult at 0x7fa3259f9280>"
      ]
     },
     "execution_count": 43,
     "metadata": {},
     "output_type": "execute_result"
    }
   ],
   "source": [
    "inventory.update_many(\n",
    "    {\"qty\": {\"$lt\": 50}}, #where\n",
    "    {\"$set\": {\"size.uom\": \"in\", \"status\": \"P\"}, #set\n",
    "     \"$currentDate\": {\"lastModified\": True}})"
   ]
  },
  {
   "cell_type": "code",
   "execution_count": 46,
   "metadata": {},
   "outputs": [
    {
     "name": "stdout",
     "output_type": "stream",
     "text": [
      "{'_id': ObjectId('5f6312b57327ebd72651c5d0'), 'item': 'journal', 'qty': 25, 'size': {'h': 14, 'w': 21, 'uom': 'in'}, 'status': 'P', 'lastModified': datetime.datetime(2020, 9, 17, 7, 48, 20, 370000)}\n",
      "{'_id': ObjectId('5f6312b57327ebd72651c5d2'), 'item': 'mousepad', 'qty': 25, 'size': {'h': 19, 'w': 22.85, 'uom': 'in'}, 'status': 'P', 'lastModified': datetime.datetime(2020, 9, 17, 7, 48, 20, 371000)}\n",
      "{'_id': ObjectId('5f6312b57327ebd72651c5d6'), 'item': 'postcard', 'qty': 45, 'size': {'h': 10, 'w': 15.25, 'uom': 'in'}, 'status': 'P', 'lastModified': datetime.datetime(2020, 9, 17, 7, 48, 20, 372000)}\n"
     ]
    }
   ],
   "source": [
    "## Select * from inventory where qty<50\n",
    "for record in inventory.find({'qty':{'$lt':50}}):\n",
    "    print(record)"
   ]
  },
  {
   "cell_type": "code",
   "execution_count": 47,
   "metadata": {},
   "outputs": [
    {
     "name": "stdout",
     "output_type": "stream",
     "text": [
      "{'_id': ObjectId('5f6312b57327ebd72651c5d4'), 'item': 'paper', 'qty': 100, 'size': {'h': 8.5, 'w': 11, 'uom': 'in'}, 'status': 'D'}\n"
     ]
    }
   ],
   "source": [
    "## Select * from inventory where item='paper'\n",
    "for record in inventory.find({'item':\"paper\"}):\n",
    "    print(record)"
   ]
  },
  {
   "cell_type": "markdown",
   "metadata": {},
   "source": [
    "### pymongo.collection.Collection.replace_one()"
   ]
  },
  {
   "cell_type": "code",
   "execution_count": 48,
   "metadata": {},
   "outputs": [
    {
     "data": {
      "text/plain": [
       "<pymongo.results.UpdateResult at 0x7fa3264a0c80>"
      ]
     },
     "execution_count": 48,
     "metadata": {},
     "output_type": "execute_result"
    }
   ],
   "source": [
    "inventory.replace_one(\n",
    "    {\"item\": \"paper\"}, #replace this\n",
    "    {\"item\": \"paper\", #with this\n",
    "     \"instock\": [\n",
    "         {\"warehouse\": \"A\", \"qty\": 60},\n",
    "         {\"warehouse\": \"B\", \"qty\": 40}]})"
   ]
  },
  {
   "cell_type": "code",
   "execution_count": 49,
   "metadata": {},
   "outputs": [
    {
     "name": "stdout",
     "output_type": "stream",
     "text": [
      "{'_id': ObjectId('5f6312b57327ebd72651c5d4'), 'item': 'paper', 'instock': [{'warehouse': 'A', 'qty': 60}, {'warehouse': 'B', 'qty': 40}]}\n"
     ]
    }
   ],
   "source": [
    "## Select * from inventory where item='paper'\n",
    "for record in inventory.find({'item':\"paper\"}):\n",
    "    print(record)"
   ]
  },
  {
   "cell_type": "markdown",
   "metadata": {},
   "source": [
    "## Aggregate and Group Functions"
   ]
  },
  {
   "cell_type": "code",
   "execution_count": 60,
   "metadata": {},
   "outputs": [
    {
     "data": {
      "text/plain": [
       "<pymongo.results.InsertManyResult at 0x7fa3264ca230>"
      ]
     },
     "execution_count": 60,
     "metadata": {},
     "output_type": "execute_result"
    }
   ],
   "source": [
    "# Access database  \n",
    "mydatabase = client['Students']  \n",
    "    \n",
    "# Access collection of the database  \n",
    "collection=mydatabase['studentscores']  \n",
    "data = [ \n",
    "    {\"user\":\"Subham\", \"subject\":\"Database\", \"score\":80}, \n",
    "    {\"user\":\"Mudit\",  \"subject\":\"JavaScript\", \"score\":90}, \n",
    "    {\"user\":\"Mudit\",  \"title\":\"Database\", \"score\":85}, \n",
    "    {\"user\":\"Subham\",  \"title\":\"JavaScript\", \"score\":75}, \n",
    "    {\"user\":\"Mudit\",  \"title\":\"Data Science\", \"score\":60},\n",
    "    {\"user\":\"Subham\",  \"title\":\"Data Science\", \"score\":95}] \n",
    "  \n",
    "collection.insert_many(data)"
   ]
  },
  {
   "cell_type": "code",
   "execution_count": 61,
   "metadata": {},
   "outputs": [
    {
     "name": "stdout",
     "output_type": "stream",
     "text": [
      "{'name': 'Employee', 'sizeOnDisk': 73728.0, 'empty': False}\n",
      "{'name': 'Movie', 'sizeOnDisk': 40960.0, 'empty': False}\n",
      "{'name': 'Stationery', 'sizeOnDisk': 57344.0, 'empty': False}\n",
      "{'name': 'Students', 'sizeOnDisk': 8192.0, 'empty': False}\n",
      "{'name': 'admin', 'sizeOnDisk': 40960.0, 'empty': False}\n",
      "{'name': 'config', 'sizeOnDisk': 110592.0, 'empty': False}\n",
      "{'name': 'local', 'sizeOnDisk': 40960.0, 'empty': False}\n"
     ]
    }
   ],
   "source": [
    "#  List all databases\n",
    "for db in client.list_databases():\n",
    "    print(db)"
   ]
  },
  {
   "cell_type": "code",
   "execution_count": 62,
   "metadata": {},
   "outputs": [
    {
     "name": "stdout",
     "output_type": "stream",
     "text": [
      "{'_id': ObjectId('5f631b377327ebd72651c5e5'), 'user': 'Subham', 'subject': 'Database', 'score': 80}\n",
      "{'_id': ObjectId('5f631b377327ebd72651c5e6'), 'user': 'Mudit', 'subject': 'JavaScript', 'score': 90}\n",
      "{'_id': ObjectId('5f631b377327ebd72651c5e7'), 'user': 'Mudit', 'title': 'Database', 'score': 85}\n",
      "{'_id': ObjectId('5f631b377327ebd72651c5e8'), 'user': 'Subham', 'title': 'JavaScript', 'score': 75}\n",
      "{'_id': ObjectId('5f631b377327ebd72651c5e9'), 'user': 'Mudit', 'title': 'Data Science', 'score': 60}\n",
      "{'_id': ObjectId('5f631b377327ebd72651c5ea'), 'user': 'Subham', 'title': 'Data Science', 'score': 95}\n"
     ]
    }
   ],
   "source": [
    "## Select * from moviedetails\n",
    "for record in collection.find({}):\n",
    "    print(record)"
   ]
  },
  {
   "cell_type": "code",
   "execution_count": 73,
   "metadata": {},
   "outputs": [
    {
     "name": "stdout",
     "output_type": "stream",
     "text": [
      "{'_id': 'Subham', 'Total Subject': 3}\n",
      "{'_id': 'Mudit', 'Total Subject': 3}\n"
     ]
    }
   ],
   "source": [
    "### Find user count\n",
    "agg_result= collection.aggregate( \n",
    "    [{ \n",
    "    \"$group\" :  \n",
    "        {\"_id\" : \"$user\",  #group by user\n",
    "         \"Total Subject\" : {\"$sum\" : 1} #sum=sum+1\n",
    "         }} \n",
    "    ])\n",
    "\n",
    "for i in agg_result: \n",
    "    print(i)"
   ]
  },
  {
   "cell_type": "code",
   "execution_count": 74,
   "metadata": {},
   "outputs": [
    {
     "name": "stdout",
     "output_type": "stream",
     "text": [
      "{'_id': 'Subham', 'Total Marks': 250}\n",
      "{'_id': 'Mudit', 'Total Marks': 235}\n"
     ]
    }
   ],
   "source": [
    "### Calculating the total score based on user\n",
    "agg_result= collection.aggregate( \n",
    "    [{ \n",
    "    \"$group\" :  \n",
    "        {\"_id\" : \"$user\",  #group by user\n",
    "         \"Total Marks\" : {\"$sum\" :\"$score\"} #sum=sum+score\n",
    "         }} \n",
    "    ]) \n",
    "for i in agg_result: \n",
    "    print(i)"
   ]
  },
  {
   "cell_type": "code",
   "execution_count": 75,
   "metadata": {},
   "outputs": [
    {
     "name": "stdout",
     "output_type": "stream",
     "text": [
      "{'_id': 'Subham', 'StudentScoreAverage': 83.33333333333333}\n",
      "{'_id': 'Mudit', 'StudentScoreAverage': 78.33333333333333}\n"
     ]
    }
   ],
   "source": [
    "### Calculating the average score based on user\n",
    "agg_result=collection.aggregate([\n",
    "   {\n",
    "    \"$group\": \n",
    "       {\"_id\": '$user',  #group by user\n",
    "         \"StudentScoreAverage\": {\"$avg\": \"$score\"}\n",
    "       }\n",
    "   }\n",
    "])\n",
    "for i in agg_result: \n",
    "    print(i)"
   ]
  },
  {
   "cell_type": "code",
   "execution_count": 76,
   "metadata": {},
   "outputs": [
    {
     "data": {
      "text/plain": [
       "<pymongo.results.InsertManyResult at 0x7fa326504aa0>"
      ]
     },
     "execution_count": 76,
     "metadata": {},
     "output_type": "execute_result"
    }
   ],
   "source": [
    "import datetime as datetime\n",
    "# Create a new collection\n",
    "mycollection=mydatabase['stores']  \n",
    "\n",
    "data=[{ \"_id\" : 1, \"item\" : \"abc\", \"price\" : 10, \"quantity\" : 2, \"date\" : datetime.datetime.utcnow()},\n",
    "{ \"_id\" : 2, \"item\" : \"jkl\", \"price\" : 20, \"quantity\" : 1, \"date\" : datetime.datetime.utcnow() },\n",
    "{ \"_id\" : 3, \"item\" : \"xyz\", \"price\" : 5, \"quantity\" : 5, \"date\" : datetime.datetime.utcnow() },\n",
    "{ \"_id\" : 4, \"item\" : \"abc\", \"price\" : 10, \"quantity\" : 10, \"date\" : datetime.datetime.utcnow() },\n",
    "{ \"_id\" : 5, \"item\" : \"xyz\", \"price\" : 5, \"quantity\" : 10, \"date\" :datetime.datetime.utcnow() }]\n",
    "mycollection.insert_many(data)"
   ]
  },
  {
   "cell_type": "code",
   "execution_count": 77,
   "metadata": {},
   "outputs": [
    {
     "name": "stdout",
     "output_type": "stream",
     "text": [
      "{'_id': 'abc', 'avgAmount': 60.0, 'avgQuantity': 6.0}\n",
      "{'_id': 'xyz', 'avgAmount': 37.5, 'avgQuantity': 7.5}\n",
      "{'_id': 'jkl', 'avgAmount': 20.0, 'avgQuantity': 1.0}\n"
     ]
    }
   ],
   "source": [
    "### Calculating the average quantity And Average Price\n",
    "agg_result=mycollection.aggregate([\n",
    "   {\n",
    "      \"$group\": {\n",
    "         \"_id\": '$item',\n",
    "         \"avgAmount\": {\"$avg\": {\"$multiply\": [ \"$price\", \"$quantity\" ]}}, #Average Price\n",
    "          \"avgQuantity\": { \"$avg\": \"$quantity\" }  #Average Quantity\n",
    "      }\n",
    "   }\n",
    "])\n",
    "for i in agg_result: \n",
    "    print(i)"
   ]
  },
  {
   "cell_type": "markdown",
   "metadata": {},
   "source": [
    "### $Project operation"
   ]
  },
  {
   "cell_type": "code",
   "execution_count": 79,
   "metadata": {},
   "outputs": [
    {
     "data": {
      "text/plain": [
       "<pymongo.results.InsertManyResult at 0x7fa3264fd500>"
      ]
     },
     "execution_count": 79,
     "metadata": {},
     "output_type": "execute_result"
    }
   ],
   "source": [
    "# Access collection of the database  \n",
    "collection=mydatabase['Books']\n",
    "data=[{\n",
    "  \"_id\" : 1,\n",
    "  \"title\": \"abc123\",\n",
    "  \"isbn\": \"0001122223334\",\n",
    "  \"author\": { \"last\": \"zzz\", \"first\": \"aaa\" },\n",
    "  \"copies\": 5\n",
    "},\n",
    "{\n",
    "  \"_id\" : 2,\n",
    "  \"title\": \"Baked Goods\",\n",
    "  \"isbn\": \"9999999999999\",\n",
    "  \"author\": { \"last\": \"xyz\", \"first\": \"abc\", \"middle\": \"\" },\n",
    "  \"copies\": 2\n",
    "}\n",
    "]\n",
    "collection.insert_many(data)"
   ]
  },
  {
   "cell_type": "code",
   "execution_count": 86,
   "metadata": {},
   "outputs": [
    {
     "name": "stdout",
     "output_type": "stream",
     "text": [
      "{'_id': 1, 'title': 'abc123', 'isbn': '0001122223334'}\n",
      "{'_id': 2, 'title': 'Baked Goods', 'isbn': '9999999999999'}\n"
     ]
    }
   ],
   "source": [
    "# Select title,isbn from Books(collection)\n",
    "for row in collection.aggregate( [ { \"$project\": { \"title\": 1,\"isbn\":1 } } ] ):\n",
    "    print(row)"
   ]
  },
  {
   "cell_type": "code",
   "execution_count": 87,
   "metadata": {},
   "outputs": [
    {
     "name": "stdout",
     "output_type": "stream",
     "text": [
      "{'_id': 1, 'author': {'last': 'zzz', 'first': 'aaa'}, 'copies': 5}\n",
      "{'_id': 2, 'author': {'last': 'xyz', 'first': 'abc', 'middle': ''}, 'copies': 2}\n"
     ]
    }
   ],
   "source": [
    "# Hide or exclude title and isbn fields and show other fields\n",
    "for row in collection.aggregate( [ { \"$project\": { \"title\": 0,\"isbn\":0 } } ] ):\n",
    "    print(row)"
   ]
  },
  {
   "cell_type": "code",
   "execution_count": null,
   "metadata": {},
   "outputs": [],
   "source": []
  }
 ],
 "metadata": {
  "kernelspec": {
   "display_name": "Python 3",
   "language": "python",
   "name": "python3"
  },
  "language_info": {
   "codemirror_mode": {
    "name": "ipython",
    "version": 3
   },
   "file_extension": ".py",
   "mimetype": "text/x-python",
   "name": "python",
   "nbconvert_exporter": "python",
   "pygments_lexer": "ipython3",
   "version": "3.7.4"
  }
 },
 "nbformat": 4,
 "nbformat_minor": 2
}
